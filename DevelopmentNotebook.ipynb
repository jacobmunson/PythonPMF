{
 "cells": [
  {
   "cell_type": "code",
   "execution_count": 1,
   "id": "4da358d2",
   "metadata": {
    "scrolled": true
   },
   "outputs": [],
   "source": [
    "# Modules\n",
    "import time\n",
    "import numpy as np\n",
    "import pandas as pd"
   ]
  },
  {
   "cell_type": "code",
   "execution_count": 2,
   "id": "c2b65200",
   "metadata": {},
   "outputs": [],
   "source": [
    "path = \"C:\\\\Users\\\\Jacob\\\\Documents\\\\Recommender Systems - Home Folder\\\\ml-latest-small\\\\ratings.csv\""
   ]
  },
  {
   "cell_type": "code",
   "execution_count": 3,
   "id": "f1c8393b",
   "metadata": {
    "scrolled": true
   },
   "outputs": [],
   "source": [
    "D = pd.read_csv(path)"
   ]
  },
  {
   "cell_type": "code",
   "execution_count": 4,
   "id": "1fb1d30e",
   "metadata": {},
   "outputs": [
    {
     "name": "stdout",
     "output_type": "stream",
     "text": [
      "100836\n"
     ]
    }
   ],
   "source": [
    "from random import sample\n",
    "\n",
    "num_obs = D.shape[0]\n",
    "print(num_obs)"
   ]
  },
  {
   "cell_type": "code",
   "execution_count": 5,
   "id": "2b487366",
   "metadata": {},
   "outputs": [
    {
     "data": {
      "text/plain": [
       "userId               1.0\n",
       "movieId              1.0\n",
       "rating               4.0\n",
       "timestamp    964982703.0\n",
       "Name: 0, dtype: float64"
      ]
     },
     "execution_count": 5,
     "metadata": {},
     "output_type": "execute_result"
    }
   ],
   "source": [
    "D.iloc[0]"
   ]
  },
  {
   "cell_type": "code",
   "execution_count": 6,
   "id": "d4024aa9",
   "metadata": {},
   "outputs": [
    {
     "data": {
      "text/plain": [
       "0"
      ]
     },
     "execution_count": 6,
     "metadata": {},
     "output_type": "execute_result"
    }
   ],
   "source": [
    "range(num_obs)[0]"
   ]
  },
  {
   "cell_type": "markdown",
   "id": "03dd8752",
   "metadata": {},
   "source": [
    "### Data Splitting"
   ]
  },
  {
   "cell_type": "code",
   "execution_count": 7,
   "id": "6bee9ee9",
   "metadata": {},
   "outputs": [
    {
     "name": "stdout",
     "output_type": "stream",
     "text": [
      "Using 90752 train samples.\n"
     ]
    }
   ],
   "source": [
    "train_percentage = 0.9\n",
    "num_train_samples = round(train_percentage*num_obs)\n",
    "train_vec_index = sample(range(num_obs), num_train_samples)\n",
    "print(\"Using \" + str(num_train_samples) + \" train samples.\")"
   ]
  },
  {
   "cell_type": "code",
   "execution_count": 8,
   "id": "45a6a2fe",
   "metadata": {},
   "outputs": [
    {
     "data": {
      "text/plain": [
       "True"
      ]
     },
     "execution_count": 8,
     "metadata": {},
     "output_type": "execute_result"
    }
   ],
   "source": [
    "len(train_vec_index) == num_train_samples"
   ]
  },
  {
   "cell_type": "code",
   "execution_count": 9,
   "id": "2db4ff1c",
   "metadata": {},
   "outputs": [],
   "source": [
    "train_vec = D.iloc[train_vec_index,:]"
   ]
  },
  {
   "cell_type": "code",
   "execution_count": 10,
   "id": "f19c652e",
   "metadata": {},
   "outputs": [],
   "source": [
    "#df1 = D\n",
    "#df2 = train_vec\n",
    "outer = D.merge(train_vec, how='outer', indicator=True)\n",
    "probe_vec = outer[(outer._merge=='left_only')].drop('_merge', axis=1)"
   ]
  },
  {
   "cell_type": "code",
   "execution_count": 11,
   "id": "c442b88d",
   "metadata": {},
   "outputs": [
    {
     "data": {
      "text/plain": [
       "True"
      ]
     },
     "execution_count": 11,
     "metadata": {},
     "output_type": "execute_result"
    }
   ],
   "source": [
    "D.shape[0] - train_vec.shape[0] == probe_vec.shape[0]"
   ]
  },
  {
   "cell_type": "code",
   "execution_count": 15,
   "id": "bc09c3cb",
   "metadata": {},
   "outputs": [
    {
     "data": {
      "text/plain": [
       "True"
      ]
     },
     "execution_count": 15,
     "metadata": {},
     "output_type": "execute_result"
    }
   ],
   "source": [
    "pd.merge(train_vec, probe_vec, on = ['userId', 'movieId', 'rating', 'timestamp']).shape[0] == 0 # Is the inner join empty?\n",
    "#train_vec[(train_vec[\"userId\"] == 1) & (train_vec[\"movieId\"] == 500)] # for checking specific values"
   ]
  },
  {
   "cell_type": "code",
   "execution_count": 16,
   "id": "002465e0",
   "metadata": {
    "scrolled": true
   },
   "outputs": [
    {
     "name": "stdout",
     "output_type": "stream",
     "text": [
      "Testing samples: 10084\n"
     ]
    }
   ],
   "source": [
    "print(\"Testing samples: \" + str(probe_vec.shape[0]))"
   ]
  },
  {
   "cell_type": "markdown",
   "id": "fc8d2d78",
   "metadata": {},
   "source": [
    "### Demo"
   ]
  },
  {
   "cell_type": "code",
   "execution_count": 17,
   "id": "4e1f6e06",
   "metadata": {},
   "outputs": [],
   "source": [
    "# split data\n",
    "clip = True\n",
    "max_epoch_pmf = 25; # for both PMF and BPMF\n",
    "max_epoch_bpmf = 25; # for both PMF and BPMF\n",
    "num_feat = 15;"
   ]
  },
  {
   "cell_type": "code",
   "execution_count": 18,
   "id": "6c13b293",
   "metadata": {},
   "outputs": [],
   "source": [
    "restart = 1"
   ]
  },
  {
   "cell_type": "code",
   "execution_count": null,
   "id": "98a129d5",
   "metadata": {},
   "outputs": [],
   "source": [
    "# run PMF function"
   ]
  },
  {
   "cell_type": "markdown",
   "id": "abf4d86e",
   "metadata": {},
   "source": [
    "### PMF Function"
   ]
  },
  {
   "cell_type": "code",
   "execution_count": 25,
   "id": "faec2ba5",
   "metadata": {},
   "outputs": [],
   "source": [
    "start = time.time()"
   ]
  },
  {
   "cell_type": "code",
   "execution_count": 42,
   "id": "5cb7062f",
   "metadata": {},
   "outputs": [
    {
     "data": {
      "text/plain": [
       "9"
      ]
     },
     "execution_count": 42,
     "metadata": {},
     "output_type": "execute_result"
    }
   ],
   "source": [
    "round(numbatches)"
   ]
  },
  {
   "cell_type": "code",
   "execution_count": 40,
   "id": "aa8c7f33",
   "metadata": {},
   "outputs": [
    {
     "name": "stdout",
     "output_type": "stream",
     "text": [
      "yep\n",
      "Loading ratings data...\n"
     ]
    }
   ],
   "source": [
    "if restart == 1:\n",
    "    print(\"yep\")\n",
    "    #restart = 0\n",
    "    epsilon = 50 # Learning rate\n",
    "    lambda_u = 0.01 # Regularization parameter for user factor matrix\n",
    "    lambda_v = 0.01 # Regularization parameter for item factor matrix\n",
    "    # it's just \"lambda\" in original implementation\n",
    "    momentum = 0.08\n",
    "    \n",
    "    epoch = 1\n",
    "    maxepoch = max_epoch_pmf\n",
    "    N = 10000 # number of training triplets per batch\n",
    "    print(\"Loading ratings data...\")\n",
    "    \n",
    "    mean_rating = np.mean(train_vec['rating'])\n",
    "    \n",
    "    pairs_tr = train_vec.shape[0] # training data\n",
    "    pairs_pr = probe_vec.shape[0] # validation data\n",
    "    \n",
    "    numbatches = pairs_tr / N # Number of batches"
   ]
  },
  {
   "cell_type": "code",
   "execution_count": 30,
   "id": "a3321070",
   "metadata": {},
   "outputs": [],
   "source": [
    "\n",
    "time.sleep(5)\n",
    "end = time.time()"
   ]
  },
  {
   "cell_type": "code",
   "execution_count": 31,
   "id": "22ef5d24",
   "metadata": {},
   "outputs": [
    {
     "name": "stdout",
     "output_type": "stream",
     "text": [
      "5.003275632858276\n"
     ]
    }
   ],
   "source": [
    "print(end - start)"
   ]
  }
 ],
 "metadata": {
  "kernelspec": {
   "display_name": "Python 3 (ipykernel)",
   "language": "python",
   "name": "python3"
  },
  "language_info": {
   "codemirror_mode": {
    "name": "ipython",
    "version": 3
   },
   "file_extension": ".py",
   "mimetype": "text/x-python",
   "name": "python",
   "nbconvert_exporter": "python",
   "pygments_lexer": "ipython3",
   "version": "3.9.16"
  }
 },
 "nbformat": 4,
 "nbformat_minor": 5
}

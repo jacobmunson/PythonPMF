{
 "cells": [
  {
   "cell_type": "code",
   "execution_count": 46,
   "id": "3f7ae6f1",
   "metadata": {
    "scrolled": true
   },
   "outputs": [],
   "source": [
    "# Modules\n",
    "import time\n",
    "from tqdm import tqdm\n",
    "import numpy as np\n",
    "import pandas as pd"
   ]
  },
  {
   "cell_type": "code",
   "execution_count": 2,
   "id": "9f861697",
   "metadata": {},
   "outputs": [],
   "source": [
    "path = \"C:\\\\Users\\\\Jacob\\\\Documents\\\\Recommender Systems - Home Folder\\\\ml-1m\\\\ratings.csv\""
   ]
  },
  {
   "cell_type": "code",
   "execution_count": 3,
   "id": "f4a4a742",
   "metadata": {
    "scrolled": true
   },
   "outputs": [],
   "source": [
    "D = pd.read_csv(path)"
   ]
  },
  {
   "cell_type": "code",
   "execution_count": 4,
   "id": "3c1bab16",
   "metadata": {},
   "outputs": [
    {
     "name": "stdout",
     "output_type": "stream",
     "text": [
      "1000209\n"
     ]
    }
   ],
   "source": [
    "from random import sample\n",
    "\n",
    "num_obs = D.shape[0]\n",
    "print(num_obs)"
   ]
  },
  {
   "cell_type": "code",
   "execution_count": 5,
   "id": "906bcbab",
   "metadata": {},
   "outputs": [
    {
     "data": {
      "text/plain": [
       "Unnamed: 0            1\n",
       "userId                1\n",
       "movieId            1193\n",
       "rating                5\n",
       "timestamp     978300760\n",
       "Name: 0, dtype: int64"
      ]
     },
     "execution_count": 5,
     "metadata": {},
     "output_type": "execute_result"
    }
   ],
   "source": [
    "D.iloc[0]"
   ]
  },
  {
   "cell_type": "markdown",
   "id": "30e4b536",
   "metadata": {},
   "source": [
    "### Data Splitting"
   ]
  },
  {
   "cell_type": "code",
   "execution_count": 7,
   "id": "9d683058",
   "metadata": {},
   "outputs": [
    {
     "name": "stdout",
     "output_type": "stream",
     "text": [
      "Using 900188 train samples.\n"
     ]
    }
   ],
   "source": [
    "train_percentage = 0.9\n",
    "num_train_samples = round(train_percentage*num_obs)\n",
    "train_vec_index = sample(range(num_obs), num_train_samples)\n",
    "print(\"Using \" + str(num_train_samples) + \" train samples.\")"
   ]
  },
  {
   "cell_type": "code",
   "execution_count": 8,
   "id": "6c087e6b",
   "metadata": {},
   "outputs": [
    {
     "data": {
      "text/plain": [
       "True"
      ]
     },
     "execution_count": 8,
     "metadata": {},
     "output_type": "execute_result"
    }
   ],
   "source": [
    "len(train_vec_index) == num_train_samples"
   ]
  },
  {
   "cell_type": "code",
   "execution_count": 9,
   "id": "e669d54e",
   "metadata": {},
   "outputs": [],
   "source": [
    "train_vec = D.iloc[train_vec_index,:]"
   ]
  },
  {
   "cell_type": "code",
   "execution_count": 10,
   "id": "39b9ecf6",
   "metadata": {},
   "outputs": [],
   "source": [
    "#df1 = D\n",
    "#df2 = train_vec\n",
    "outer = D.merge(train_vec, how='outer', indicator=True)\n",
    "probe_vec = outer[(outer._merge=='left_only')].drop('_merge', axis=1)"
   ]
  },
  {
   "cell_type": "code",
   "execution_count": 11,
   "id": "386228d6",
   "metadata": {},
   "outputs": [
    {
     "data": {
      "text/plain": [
       "True"
      ]
     },
     "execution_count": 11,
     "metadata": {},
     "output_type": "execute_result"
    }
   ],
   "source": [
    "D.shape[0] - train_vec.shape[0] == probe_vec.shape[0]"
   ]
  },
  {
   "cell_type": "code",
   "execution_count": 15,
   "id": "6290c220",
   "metadata": {},
   "outputs": [
    {
     "name": "stdout",
     "output_type": "stream",
     "text": [
      "True\n",
      "Expecting True\n"
     ]
    }
   ],
   "source": [
    "print(pd.merge(train_vec, probe_vec, on = ['userId', 'movieId', 'rating', 'timestamp']).shape[0] == 0) # Is the inner join empty?\n",
    "print(\"Expecting True\")\n",
    "#train_vec[(train_vec[\"userId\"] == 1) & (train_vec[\"movieId\"] == 500)] # for checking specific values"
   ]
  },
  {
   "cell_type": "code",
   "execution_count": 16,
   "id": "61fa6829",
   "metadata": {
    "scrolled": true
   },
   "outputs": [
    {
     "name": "stdout",
     "output_type": "stream",
     "text": [
      "Testing samples: 100021\n"
     ]
    }
   ],
   "source": [
    "print(\"Testing samples: \" + str(probe_vec.shape[0]))"
   ]
  },
  {
   "cell_type": "markdown",
   "id": "018a0c7d",
   "metadata": {},
   "source": [
    "### Demo"
   ]
  },
  {
   "cell_type": "code",
   "execution_count": 17,
   "id": "86e855ad",
   "metadata": {},
   "outputs": [],
   "source": [
    "# split data\n",
    "clip = True\n",
    "max_epoch_pmf = 25; # for both PMF and BPMF\n",
    "max_epoch_bpmf = 25; # for both PMF and BPMF\n",
    "num_feat = 15;"
   ]
  },
  {
   "cell_type": "code",
   "execution_count": 18,
   "id": "7fcf53d4",
   "metadata": {},
   "outputs": [],
   "source": [
    "restart = 1"
   ]
  },
  {
   "cell_type": "code",
   "execution_count": null,
   "id": "d6433681",
   "metadata": {},
   "outputs": [],
   "source": [
    "# run PMF function"
   ]
  },
  {
   "cell_type": "markdown",
   "id": "14c1813d",
   "metadata": {},
   "source": [
    "### PMF Function"
   ]
  },
  {
   "cell_type": "code",
   "execution_count": 19,
   "id": "63da9bb9",
   "metadata": {},
   "outputs": [],
   "source": [
    "start = time.time()"
   ]
  },
  {
   "cell_type": "code",
   "execution_count": 21,
   "id": "eaf02d21",
   "metadata": {},
   "outputs": [
    {
     "ename": "NameError",
     "evalue": "name 'pairs_tr' is not defined",
     "output_type": "error",
     "traceback": [
      "\u001b[1;31m---------------------------------------------------------------------------\u001b[0m",
      "\u001b[1;31mNameError\u001b[0m                                 Traceback (most recent call last)",
      "Cell \u001b[1;32mIn[21], line 1\u001b[0m\n\u001b[1;32m----> 1\u001b[0m \u001b[43mpairs_tr\u001b[49m\n",
      "\u001b[1;31mNameError\u001b[0m: name 'pairs_tr' is not defined"
     ]
    }
   ],
   "source": [
    "pairs_tr"
   ]
  },
  {
   "cell_type": "code",
   "execution_count": 38,
   "id": "53efb10e",
   "metadata": {},
   "outputs": [
    {
     "name": "stdout",
     "output_type": "stream",
     "text": [
      "yep\n",
      "Loading ratings data...\n"
     ]
    }
   ],
   "source": [
    "if restart == 1:\n",
    "    print(\"yep\")\n",
    "    #restart = 0\n",
    "    epsilon = 50 # Learning rate\n",
    "    lambda_u = 0.01 # Regularization parameter for user factor matrix\n",
    "    lambda_v = 0.01 # Regularization parameter for item factor matrix\n",
    "    # it's just \"lambda\" in original implementation\n",
    "    momentum = 0.8\n",
    "    \n",
    "    epoch = 1\n",
    "    maxepoch = max_epoch_pmf\n",
    "    N = 10000 # number of training triplets per batch\n",
    "    print(\"Loading ratings data...\")\n",
    "    \n",
    "    mean_rating = np.mean(train_vec['rating'])\n",
    "    \n",
    "    pairs_tr = train_vec.shape[0] # training data\n",
    "    pairs_pr = probe_vec.shape[0] # validation data\n",
    "    \n",
    "    numbatches = pairs_tr / N # Number of batches\n",
    "    numbatches = round(numbatches)\n",
    "    \n",
    "    num_m = int((D[[\"movieId\"]]).max()) # somewhat expecting users/items to be mapped nicely\n",
    "    num_p = int((D[[\"userId\"]]).max()) # this works if there are gaps, for example no item 5 or user 3, \n",
    "                                    # but will be problematic if there's an item 1M when there are only 5k items \n",
    "    \n",
    "    w1_M1 = np.random.rand(num_m, num_feat) # Item features\n",
    "    w1_P1 = np.random.rand(num_p, num_feat) # User features\n",
    "    \n",
    "    w1_M1_inc = np.zeros((num_m, num_feat)) # Item features\n",
    "    w1_P1_inc = np.zeros((num_p, num_feat)) # User features\n",
    "    \n",
    "    w1_M1.shape == w1_M1_inc.shape\n",
    "    w1_P1.shape == w1_P1_inc.shape\n",
    "    \n",
    "    err_valid = []\n",
    "    err_train = []\n",
    "    \n",
    "    # end of restart if statement\n",
    "\n"
   ]
  },
  {
   "cell_type": "code",
   "execution_count": 49,
   "id": "42e43b8b",
   "metadata": {},
   "outputs": [
    {
     "name": "stderr",
     "output_type": "stream",
     "text": [
      "100%|██████████| 25/25 [00:50<00:00,  2.01s/it]\n"
     ]
    }
   ],
   "source": [
    "for epoch in tqdm(range(maxepoch)):\n",
    "    time.sleep(2)\n",
    "    "
   ]
  },
  {
   "cell_type": "code",
   "execution_count": 30,
   "id": "722eecea",
   "metadata": {},
   "outputs": [],
   "source": [
    "\n",
    "time.sleep(5)\n",
    "end = time.time()"
   ]
  },
  {
   "cell_type": "code",
   "execution_count": 31,
   "id": "8332d976",
   "metadata": {},
   "outputs": [
    {
     "name": "stdout",
     "output_type": "stream",
     "text": [
      "5.003275632858276\n"
     ]
    }
   ],
   "source": [
    "print(end - start)"
   ]
  }
 ],
 "metadata": {
  "kernelspec": {
   "display_name": "Python 3 (ipykernel)",
   "language": "python",
   "name": "python3"
  },
  "language_info": {
   "codemirror_mode": {
    "name": "ipython",
    "version": 3
   },
   "file_extension": ".py",
   "mimetype": "text/x-python",
   "name": "python",
   "nbconvert_exporter": "python",
   "pygments_lexer": "ipython3",
   "version": "3.9.16"
  }
 },
 "nbformat": 4,
 "nbformat_minor": 5
}

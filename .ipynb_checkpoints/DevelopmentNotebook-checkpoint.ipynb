{
 "cells": [
  {
   "cell_type": "code",
   "execution_count": 1,
   "id": "e1e6defe",
   "metadata": {
    "scrolled": true
   },
   "outputs": [],
   "source": [
    "# Modules\n",
    "import pandas as pd"
   ]
  },
  {
   "cell_type": "code",
   "execution_count": 2,
   "id": "22036786",
   "metadata": {},
   "outputs": [],
   "source": [
    "path = \"C:\\\\Users\\\\Jacob\\\\Documents\\\\Recommender Systems - Home Folder\\\\ml-latest-small\\\\ratings.csv\""
   ]
  },
  {
   "cell_type": "code",
   "execution_count": 3,
   "id": "1fff00c6",
   "metadata": {
    "scrolled": true
   },
   "outputs": [],
   "source": [
    "D = pd.read_csv(path)"
   ]
  },
  {
   "cell_type": "code",
   "execution_count": 4,
   "id": "c0e27f24",
   "metadata": {},
   "outputs": [
    {
     "name": "stdout",
     "output_type": "stream",
     "text": [
      "100836\n"
     ]
    }
   ],
   "source": [
    "from random import sample\n",
    "\n",
    "num_obs = D.shape[0]\n",
    "print(num_obs)\n"
   ]
  },
  {
   "cell_type": "code",
   "execution_count": 5,
   "id": "0f863a95",
   "metadata": {},
   "outputs": [
    {
     "data": {
      "text/plain": [
       "userId               1.0\n",
       "movieId              1.0\n",
       "rating               4.0\n",
       "timestamp    964982703.0\n",
       "Name: 0, dtype: float64"
      ]
     },
     "execution_count": 5,
     "metadata": {},
     "output_type": "execute_result"
    }
   ],
   "source": [
    "D.iloc[0]"
   ]
  },
  {
   "cell_type": "code",
   "execution_count": 6,
   "id": "90de11d9",
   "metadata": {},
   "outputs": [
    {
     "data": {
      "text/plain": [
       "0"
      ]
     },
     "execution_count": 6,
     "metadata": {},
     "output_type": "execute_result"
    }
   ],
   "source": [
    "range(num_obs)[0]"
   ]
  },
  {
   "cell_type": "code",
   "execution_count": 7,
   "id": "5683381a",
   "metadata": {},
   "outputs": [
    {
     "name": "stdout",
     "output_type": "stream",
     "text": [
      "Using 90752 train samples.\n"
     ]
    }
   ],
   "source": [
    "train_percentage = 0.9\n",
    "num_train_samples = round(train_percentage*num_obs)\n",
    "train_vec_index = sample(range(num_obs), num_train_samples)\n",
    "print(\"Using \" + str(num_train_samples) + \" train samples.\")"
   ]
  },
  {
   "cell_type": "code",
   "execution_count": 8,
   "id": "bde53d6c",
   "metadata": {},
   "outputs": [
    {
     "data": {
      "text/plain": [
       "True"
      ]
     },
     "execution_count": 8,
     "metadata": {},
     "output_type": "execute_result"
    }
   ],
   "source": [
    "len(train_vec_index) == num_train_samples"
   ]
  },
  {
   "cell_type": "code",
   "execution_count": 9,
   "id": "e0e66b94",
   "metadata": {},
   "outputs": [],
   "source": [
    "train_vec = D.iloc[train_vec_index,:]"
   ]
  },
  {
   "cell_type": "code",
   "execution_count": 10,
   "id": "406133e8",
   "metadata": {},
   "outputs": [],
   "source": [
    "#df1 = D\n",
    "#df2 = train_vec\n",
    "outer = D.merge(train_vec, how='outer', indicator=True)\n",
    "probe_vec = outer[(outer._merge=='left_only')].drop('_merge', axis=1)"
   ]
  },
  {
   "cell_type": "code",
   "execution_count": 11,
   "id": "4b634ca5",
   "metadata": {},
   "outputs": [
    {
     "data": {
      "text/plain": [
       "True"
      ]
     },
     "execution_count": 11,
     "metadata": {},
     "output_type": "execute_result"
    }
   ],
   "source": [
    "D.shape[0] - train_vec.shape[0] == probe_vec.shape[0]"
   ]
  },
  {
   "cell_type": "code",
   "execution_count": 15,
   "id": "a1ec04d5",
   "metadata": {},
   "outputs": [
    {
     "data": {
      "text/plain": [
       "True"
      ]
     },
     "execution_count": 15,
     "metadata": {},
     "output_type": "execute_result"
    }
   ],
   "source": [
    "pd.merge(train_vec, probe_vec, on = ['userId', 'movieId', 'rating', 'timestamp']).shape[0] == 0 # Is the inner join empty?\n",
    "#train_vec[(train_vec[\"userId\"] == 1) & (train_vec[\"movieId\"] == 500)] # for checking specific values"
   ]
  },
  {
   "cell_type": "code",
   "execution_count": 16,
   "id": "fe3a8061",
   "metadata": {
    "scrolled": true
   },
   "outputs": [
    {
     "name": "stdout",
     "output_type": "stream",
     "text": [
      "Testing samples: 10084\n"
     ]
    }
   ],
   "source": [
    "print(\"Testing samples: \" + str(probe_vec.shape[0]))"
   ]
  },
  {
   "cell_type": "code",
   "execution_count": null,
   "id": "29121b7c",
   "metadata": {},
   "outputs": [],
   "source": []
  },
  {
   "cell_type": "code",
   "execution_count": 6,
   "id": "34259f87",
   "metadata": {},
   "outputs": [
    {
     "ename": "ModuleNotFoundError",
     "evalue": "No module named 'scipy'",
     "output_type": "error",
     "traceback": [
      "\u001b[1;31m---------------------------------------------------------------------------\u001b[0m",
      "\u001b[1;31mModuleNotFoundError\u001b[0m                       Traceback (most recent call last)",
      "Cell \u001b[1;32mIn[6], line 1\u001b[0m\n\u001b[1;32m----> 1\u001b[0m \u001b[38;5;28;01mimport\u001b[39;00m \u001b[38;5;21;01mscipy\u001b[39;00m\n",
      "\u001b[1;31mModuleNotFoundError\u001b[0m: No module named 'scipy'"
     ]
    }
   ],
   "source": [
    "import scipy"
   ]
  },
  {
   "cell_type": "code",
   "execution_count": 8,
   "id": "c271ec62",
   "metadata": {},
   "outputs": [
    {
     "name": "stdout",
     "output_type": "stream",
     "text": [
      "[2, 5, 1]\n"
     ]
    }
   ],
   "source": [
    "\n",
    "  \n",
    "# Prints list of random items of given length\n",
    "list1 = [1, 2, 3, 4, 5] \n",
    "  \n",
    "print(sample(list1,3))"
   ]
  }
 ],
 "metadata": {
  "kernelspec": {
   "display_name": "Python 3 (ipykernel)",
   "language": "python",
   "name": "python3"
  },
  "language_info": {
   "codemirror_mode": {
    "name": "ipython",
    "version": 3
   },
   "file_extension": ".py",
   "mimetype": "text/x-python",
   "name": "python",
   "nbconvert_exporter": "python",
   "pygments_lexer": "ipython3",
   "version": "3.9.16"
  }
 },
 "nbformat": 4,
 "nbformat_minor": 5
}

{
 "cells": [
  {
   "cell_type": "code",
   "execution_count": 2,
   "id": "19ba2f86",
   "metadata": {
    "scrolled": true
   },
   "outputs": [],
   "source": [
    "# Modules\n",
    "import pandas as pd"
   ]
  },
  {
   "cell_type": "code",
   "execution_count": 4,
   "id": "46dd82a3",
   "metadata": {},
   "outputs": [],
   "source": [
    "path = \"C:\\\\Users\\\\Jacob\\\\Documents\\\\Recommender Systems - Home Folder\\\\ml-latest-small\\\\ratings.csv\""
   ]
  },
  {
   "cell_type": "code",
   "execution_count": 7,
   "id": "14a8d63e",
   "metadata": {
    "scrolled": true
   },
   "outputs": [],
   "source": [
    "D = pd.read_csv(path)"
   ]
  },
  {
   "cell_type": "code",
   "execution_count": 16,
   "id": "2d905dd5",
   "metadata": {},
   "outputs": [
    {
     "name": "stdout",
     "output_type": "stream",
     "text": [
      "100836\n"
     ]
    }
   ],
   "source": [
    "from random import sample\n",
    "\n",
    "num_obs = D.shape[0]\n",
    "print(num_obs)\n"
   ]
  },
  {
   "cell_type": "code",
   "execution_count": 23,
   "id": "9a9bfc54",
   "metadata": {},
   "outputs": [
    {
     "data": {
      "text/plain": [
       "userId               1.0\n",
       "movieId              1.0\n",
       "rating               4.0\n",
       "timestamp    964982703.0\n",
       "Name: 0, dtype: float64"
      ]
     },
     "execution_count": 23,
     "metadata": {},
     "output_type": "execute_result"
    }
   ],
   "source": [
    "D.iloc[0]"
   ]
  },
  {
   "cell_type": "code",
   "execution_count": 24,
   "id": "6e3d7d31",
   "metadata": {},
   "outputs": [
    {
     "data": {
      "text/plain": [
       "0"
      ]
     },
     "execution_count": 24,
     "metadata": {},
     "output_type": "execute_result"
    }
   ],
   "source": [
    "range(num_obs)[0]"
   ]
  },
  {
   "cell_type": "code",
   "execution_count": 40,
   "id": "ef6bdeb2",
   "metadata": {},
   "outputs": [
    {
     "data": {
      "text/plain": [
       "90752"
      ]
     },
     "execution_count": 40,
     "metadata": {},
     "output_type": "execute_result"
    }
   ],
   "source": []
  },
  {
   "cell_type": "code",
   "execution_count": 48,
   "id": "55fb2171",
   "metadata": {},
   "outputs": [
    {
     "name": "stdout",
     "output_type": "stream",
     "text": [
      "Using 90752 train samples.\n"
     ]
    }
   ],
   "source": [
    "train_percentage = 0.9\n",
    "num_train_samples = round(train_percentage*num_obs)\n",
    "train_vec_index = sample(range(num_obs), num_train_samples)\n",
    "print(\"Using \" + str(num_train_samples) + \" train samples.\")"
   ]
  },
  {
   "cell_type": "code",
   "execution_count": 45,
   "id": "647a3993",
   "metadata": {},
   "outputs": [
    {
     "data": {
      "text/plain": [
       "True"
      ]
     },
     "execution_count": 45,
     "metadata": {},
     "output_type": "execute_result"
    }
   ],
   "source": [
    "len(train_vec_index) == num_train_samples"
   ]
  },
  {
   "cell_type": "code",
   "execution_count": 46,
   "id": "b2b215bb",
   "metadata": {},
   "outputs": [
    {
     "data": {
      "text/html": [
       "<div>\n",
       "<style scoped>\n",
       "    .dataframe tbody tr th:only-of-type {\n",
       "        vertical-align: middle;\n",
       "    }\n",
       "\n",
       "    .dataframe tbody tr th {\n",
       "        vertical-align: top;\n",
       "    }\n",
       "\n",
       "    .dataframe thead th {\n",
       "        text-align: right;\n",
       "    }\n",
       "</style>\n",
       "<table border=\"1\" class=\"dataframe\">\n",
       "  <thead>\n",
       "    <tr style=\"text-align: right;\">\n",
       "      <th></th>\n",
       "      <th>userId</th>\n",
       "      <th>movieId</th>\n",
       "      <th>rating</th>\n",
       "      <th>timestamp</th>\n",
       "    </tr>\n",
       "  </thead>\n",
       "  <tbody>\n",
       "    <tr>\n",
       "      <th>8872</th>\n",
       "      <td>62</td>\n",
       "      <td>5502</td>\n",
       "      <td>4.0</td>\n",
       "      <td>1521489661</td>\n",
       "    </tr>\n",
       "    <tr>\n",
       "      <th>93346</th>\n",
       "      <td>599</td>\n",
       "      <td>2252</td>\n",
       "      <td>3.0</td>\n",
       "      <td>1498525615</td>\n",
       "    </tr>\n",
       "    <tr>\n",
       "      <th>27630</th>\n",
       "      <td>187</td>\n",
       "      <td>2542</td>\n",
       "      <td>1.0</td>\n",
       "      <td>1161849138</td>\n",
       "    </tr>\n",
       "    <tr>\n",
       "      <th>73489</th>\n",
       "      <td>474</td>\n",
       "      <td>1327</td>\n",
       "      <td>2.0</td>\n",
       "      <td>974666910</td>\n",
       "    </tr>\n",
       "    <tr>\n",
       "      <th>37613</th>\n",
       "      <td>254</td>\n",
       "      <td>3996</td>\n",
       "      <td>4.0</td>\n",
       "      <td>1180446359</td>\n",
       "    </tr>\n",
       "    <tr>\n",
       "      <th>...</th>\n",
       "      <td>...</td>\n",
       "      <td>...</td>\n",
       "      <td>...</td>\n",
       "      <td>...</td>\n",
       "    </tr>\n",
       "    <tr>\n",
       "      <th>17371</th>\n",
       "      <td>111</td>\n",
       "      <td>3785</td>\n",
       "      <td>2.5</td>\n",
       "      <td>1516141003</td>\n",
       "    </tr>\n",
       "    <tr>\n",
       "      <th>98341</th>\n",
       "      <td>606</td>\n",
       "      <td>30803</td>\n",
       "      <td>4.5</td>\n",
       "      <td>1177626896</td>\n",
       "    </tr>\n",
       "    <tr>\n",
       "      <th>53391</th>\n",
       "      <td>352</td>\n",
       "      <td>68157</td>\n",
       "      <td>5.0</td>\n",
       "      <td>1493674096</td>\n",
       "    </tr>\n",
       "    <tr>\n",
       "      <th>33471</th>\n",
       "      <td>226</td>\n",
       "      <td>7448</td>\n",
       "      <td>2.5</td>\n",
       "      <td>1097544907</td>\n",
       "    </tr>\n",
       "    <tr>\n",
       "      <th>14639</th>\n",
       "      <td>91</td>\n",
       "      <td>6378</td>\n",
       "      <td>3.0</td>\n",
       "      <td>1112712373</td>\n",
       "    </tr>\n",
       "  </tbody>\n",
       "</table>\n",
       "<p>90752 rows × 4 columns</p>\n",
       "</div>"
      ],
      "text/plain": [
       "       userId  movieId  rating   timestamp\n",
       "8872       62     5502     4.0  1521489661\n",
       "93346     599     2252     3.0  1498525615\n",
       "27630     187     2542     1.0  1161849138\n",
       "73489     474     1327     2.0   974666910\n",
       "37613     254     3996     4.0  1180446359\n",
       "...       ...      ...     ...         ...\n",
       "17371     111     3785     2.5  1516141003\n",
       "98341     606    30803     4.5  1177626896\n",
       "53391     352    68157     5.0  1493674096\n",
       "33471     226     7448     2.5  1097544907\n",
       "14639      91     6378     3.0  1112712373\n",
       "\n",
       "[90752 rows x 4 columns]"
      ]
     },
     "execution_count": 46,
     "metadata": {},
     "output_type": "execute_result"
    }
   ],
   "source": [
    "D.iloc[train_vec_index,:]"
   ]
  },
  {
   "cell_type": "code",
   "execution_count": null,
   "id": "fc28ab20",
   "metadata": {},
   "outputs": [],
   "source": [
    "train_vec = \n",
    "#prob"
   ]
  },
  {
   "cell_type": "code",
   "execution_count": null,
   "id": "cf4268af",
   "metadata": {},
   "outputs": [],
   "source": [
    "    train_vec_index = sample(x = 1:nrow(D), size = round(train_percentage*nrow(D),-5), replace = F)\n",
    "    train_vec = D[train_vec_index,]\n",
    "    probe_vec = anti_join(D, train_vec)"
   ]
  },
  {
   "cell_type": "code",
   "execution_count": 6,
   "id": "475b5616",
   "metadata": {},
   "outputs": [
    {
     "ename": "ModuleNotFoundError",
     "evalue": "No module named 'scipy'",
     "output_type": "error",
     "traceback": [
      "\u001b[1;31m---------------------------------------------------------------------------\u001b[0m",
      "\u001b[1;31mModuleNotFoundError\u001b[0m                       Traceback (most recent call last)",
      "Cell \u001b[1;32mIn[6], line 1\u001b[0m\n\u001b[1;32m----> 1\u001b[0m \u001b[38;5;28;01mimport\u001b[39;00m \u001b[38;5;21;01mscipy\u001b[39;00m\n",
      "\u001b[1;31mModuleNotFoundError\u001b[0m: No module named 'scipy'"
     ]
    }
   ],
   "source": [
    "import scipy"
   ]
  },
  {
   "cell_type": "code",
   "execution_count": 8,
   "id": "2098908c",
   "metadata": {},
   "outputs": [
    {
     "name": "stdout",
     "output_type": "stream",
     "text": [
      "[2, 5, 1]\n"
     ]
    }
   ],
   "source": [
    "\n",
    "  \n",
    "# Prints list of random items of given length\n",
    "list1 = [1, 2, 3, 4, 5] \n",
    "  \n",
    "print(sample(list1,3))"
   ]
  }
 ],
 "metadata": {
  "kernelspec": {
   "display_name": "Python 3 (ipykernel)",
   "language": "python",
   "name": "python3"
  },
  "language_info": {
   "codemirror_mode": {
    "name": "ipython",
    "version": 3
   },
   "file_extension": ".py",
   "mimetype": "text/x-python",
   "name": "python",
   "nbconvert_exporter": "python",
   "pygments_lexer": "ipython3",
   "version": "3.9.16"
  }
 },
 "nbformat": 4,
 "nbformat_minor": 5
}
